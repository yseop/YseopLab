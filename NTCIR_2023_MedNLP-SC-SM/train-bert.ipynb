{
 "cells": [
  {
   "cell_type": "code",
   "execution_count": 1,
   "id": "fdf07d16-81ed-4e74-929e-e3daa67d18bd",
   "metadata": {},
   "outputs": [],
   "source": [
    "import pandas as pd"
   ]
  },
  {
   "cell_type": "code",
   "execution_count": 2,
   "id": "2545f732-a772-4d7d-a71f-ac3683deda95",
   "metadata": {},
   "outputs": [],
   "source": [
    "en_df = pd.read_csv(\"ntcir17_mednlp-sc_sm_en_train_26_06_23.csv\")\n",
    "fr_df = pd.read_csv(\"ntcir17_mednlp-sc_sm_fr_train_26_06_23.csv\")\n",
    "de_df = pd.read_csv(\"ntcir17_mednlp-sc_sm_de_train_26_06_23.csv\")\n",
    "ja_df = pd.read_csv(\"ntcir17_mednlp-sc_sm_ja_train_26_06_23.csv\")"
   ]
  },
  {
   "cell_type": "code",
   "execution_count": 3,
   "id": "0111777a-49d9-48d9-880c-1c43cc5d5b26",
   "metadata": {},
   "outputs": [],
   "source": [
    "remove_common_name = lambda x: x.split(\":\")[0]"
   ]
  },
  {
   "cell_type": "code",
   "execution_count": 4,
   "id": "12146e4a-5a7d-4025-afd8-8bb675e76932",
   "metadata": {},
   "outputs": [],
   "source": [
    "en_df = en_df.rename(remove_common_name, axis='columns')\n",
    "fr_df = fr_df.rename(remove_common_name, axis='columns')\n",
    "de_df = de_df.rename(remove_common_name, axis='columns')\n",
    "ja_df = ja_df.rename(remove_common_name, axis='columns')"
   ]
  },
  {
   "cell_type": "code",
   "execution_count": 5,
   "id": "8902f3eb-9717-481f-86ad-fca846910a83",
   "metadata": {},
   "outputs": [],
   "source": [
    "ade_columns = ['C0027497', 'C0011991', 'C0015672', 'C0042963', 'C0003123',\n",
    "               'C0018681', 'C0015967', 'C0206062', 'C0023895', 'C0012833',\n",
    "               'C0030193', 'C0002170', 'C0004096', 'C0022658', 'C0020517',\n",
    "               'C0917801', 'C0009806', 'C0005956', 'C0000737', 'C0010692',\n",
    "               'C0015230', 'C0149745']"
   ]
  },
  {
   "cell_type": "code",
   "execution_count": 6,
   "id": "df8bf3be-64af-4328-8624-9a971412aec2",
   "metadata": {},
   "outputs": [],
   "source": [
    "comb_train = pd.concat([en_df, fr_df, de_df, ja_df])"
   ]
  },
  {
   "cell_type": "code",
   "execution_count": 7,
   "id": "fb9a3b78-5853-464e-822d-7cdd7b554074",
   "metadata": {},
   "outputs": [],
   "source": [
    "comb_train[ade_columns] = comb_train[ade_columns].astype(float)\n",
    "comb_train[\"labels\"] = comb_train[ade_columns].values.tolist()\n",
    "xtrain_ds = comb_train.drop(columns=ade_columns+[\"train_id\"])\n",
    "xtrain_ds = xtrain_ds.sample(frac=1).reset_index(drop=True)  # shuffle"
   ]
  },
  {
   "cell_type": "code",
   "execution_count": 8,
   "id": "f99074f2-dc59-42ae-81d9-d4539066d91e",
   "metadata": {},
   "outputs": [],
   "source": [
    "id2label = {idx:label for idx, label in enumerate(ade_columns)}\n",
    "label2id = {label:idx for idx, label in enumerate(ade_columns)}"
   ]
  },
  {
   "cell_type": "code",
   "execution_count": 9,
   "id": "c9d6af95-05b8-4abe-a9cd-f1f1cae49927",
   "metadata": {},
   "outputs": [],
   "source": [
    "from transformers import AutoTokenizer\n",
    "import numpy as np\n",
    "tokenizer = AutoTokenizer.from_pretrained(\"bert-base-multilingual-cased\")"
   ]
  },
  {
   "cell_type": "code",
   "execution_count": 10,
   "id": "52f08da0-900f-4d76-8da0-864b7b38a9a0",
   "metadata": {},
   "outputs": [],
   "source": [
    "import datasets\n",
    "from datasets import Dataset"
   ]
  },
  {
   "cell_type": "code",
   "execution_count": 11,
   "id": "5f258a52-8da3-4f04-a553-1512e32eb56d",
   "metadata": {},
   "outputs": [],
   "source": [
    "ds = Dataset.from_pandas(xtrain_ds, preserve_index=False)"
   ]
  },
  {
   "cell_type": "code",
   "execution_count": 12,
   "id": "dc28c7d2-7f48-4345-a2b1-0fc8766c144e",
   "metadata": {},
   "outputs": [],
   "source": [
    "def preprocess_data(examples):\n",
    "    # take a batch of texts\n",
    "    # encode them\n",
    "    encoding = tokenizer(examples[\"text\"], padding=\"max_length\", truncation=True, max_length=128)\n",
    "    encoding[\"labels\"] = examples[\"labels\"]\n",
    "    return encoding"
   ]
  },
  {
   "cell_type": "code",
   "execution_count": 13,
   "id": "7e5692e6-4ab5-492f-945d-523993f0d108",
   "metadata": {},
   "outputs": [
    {
     "data": {
      "application/vnd.jupyter.widget-view+json": {
       "model_id": "",
       "version_major": 2,
       "version_minor": 0
      },
      "text/plain": [
       "Map:   0%|          | 0/31856 [00:00<?, ? examples/s]"
      ]
     },
     "metadata": {},
     "output_type": "display_data"
    }
   ],
   "source": [
    "train_dataset = ds.map(preprocess_data, batched=True, remove_columns=ds.column_names)"
   ]
  },
  {
   "cell_type": "code",
   "execution_count": 14,
   "id": "a412c998-ce1a-4fd7-bff4-653ea2f38632",
   "metadata": {},
   "outputs": [],
   "source": [
    "train_dataset.set_format(\"torch\")"
   ]
  },
  {
   "cell_type": "code",
   "execution_count": 15,
   "id": "ce21a989-b288-4ed3-ba28-5bdf2a515f7d",
   "metadata": {},
   "outputs": [
    {
     "name": "stderr",
     "output_type": "stream",
     "text": [
      "Some weights of the model checkpoint at bert-base-multilingual-cased were not used when initializing BertForSequenceClassification: ['cls.predictions.transform.dense.weight', 'cls.predictions.transform.LayerNorm.weight', 'cls.seq_relationship.bias', 'cls.predictions.decoder.weight', 'cls.seq_relationship.weight', 'cls.predictions.transform.dense.bias', 'cls.predictions.bias', 'cls.predictions.transform.LayerNorm.bias']\n",
      "- This IS expected if you are initializing BertForSequenceClassification from the checkpoint of a model trained on another task or with another architecture (e.g. initializing a BertForSequenceClassification model from a BertForPreTraining model).\n",
      "- This IS NOT expected if you are initializing BertForSequenceClassification from the checkpoint of a model that you expect to be exactly identical (initializing a BertForSequenceClassification model from a BertForSequenceClassification model).\n",
      "Some weights of BertForSequenceClassification were not initialized from the model checkpoint at bert-base-multilingual-cased and are newly initialized: ['classifier.bias', 'classifier.weight']\n",
      "You should probably TRAIN this model on a down-stream task to be able to use it for predictions and inference.\n"
     ]
    }
   ],
   "source": [
    "from transformers import AutoModelForSequenceClassification\n",
    "model = AutoModelForSequenceClassification.from_pretrained(\"bert-base-multilingual-cased\",\n",
    "                                                           problem_type=\"multi_label_classification\",\n",
    "                                                           num_labels=len(ade_columns),\n",
    "                                                           id2label=id2label,\n",
    "                                                           label2id=label2id)"
   ]
  },
  {
   "cell_type": "code",
   "execution_count": 17,
   "id": "7e156166-8520-4c5d-bcf5-61b33783825f",
   "metadata": {},
   "outputs": [],
   "source": [
    "from transformers import TrainingArguments, Trainer\n",
    "batch_size = 16\n",
    "args = TrainingArguments(\n",
    "    f\"bert-finetuned\",\n",
    "    save_strategy = \"epoch\",\n",
    "    learning_rate=2e-5,\n",
    "    per_device_train_batch_size=batch_size,\n",
    "    num_train_epochs=6,\n",
    "    weight_decay=0.01\n",
    ")"
   ]
  },
  {
   "cell_type": "code",
   "execution_count": 20,
   "id": "e203418a-a6cb-4748-b394-64c62498e0a5",
   "metadata": {},
   "outputs": [
    {
     "name": "stdout",
     "output_type": "stream",
     "text": [
      "SequenceClassifierOutput(loss=tensor(0.6956, grad_fn=<BinaryCrossEntropyWithLogitsBackward0>), logits=tensor([[-0.0857,  0.0210,  0.0811, -0.0081, -0.1899,  0.0681,  0.1964, -0.1105,\n",
      "          0.0055,  0.0085,  0.1192, -0.1962,  0.0741,  0.0489,  0.0142,  0.0802,\n",
      "          0.0788,  0.0079, -0.0598, -0.1201, -0.0390,  0.0621]],\n",
      "       grad_fn=<AddmmBackward0>), hidden_states=None, attentions=None)\n"
     ]
    }
   ],
   "source": [
    "outputs = model(input_ids=train_dataset['input_ids'][0].unsqueeze(0), labels=train_dataset[0]['labels'].unsqueeze(0))\n",
    "print(outputs)"
   ]
  },
  {
   "cell_type": "code",
   "execution_count": 22,
   "id": "35cdc2d7-fe58-4ffe-98a2-7745e5c70d67",
   "metadata": {},
   "outputs": [],
   "source": [
    "trainer = Trainer(\n",
    "    model,\n",
    "    args,\n",
    "    train_dataset=train_dataset,\n",
    "    tokenizer=tokenizer\n",
    ")"
   ]
  },
  {
   "cell_type": "code",
   "execution_count": 23,
   "id": "81673027-0b45-4a8a-b88d-aafa5e0ed084",
   "metadata": {},
   "outputs": [
    {
     "name": "stderr",
     "output_type": "stream",
     "text": [
      "/home/vahbuna/mambaforge/lib/python3.10/site-packages/transformers/optimization.py:391: FutureWarning: This implementation of AdamW is deprecated and will be removed in a future version. Use the PyTorch implementation torch.optim.AdamW instead, or set `no_deprecation_warning=True` to disable this warning\n",
      "  warnings.warn(\n",
      "You're using a BertTokenizerFast tokenizer. Please note that with a fast tokenizer, using the `__call__` method is faster than using a method to encode the text followed by a call to the `pad` method to get a padded encoding.\n"
     ]
    },
    {
     "data": {
      "text/html": [
       "\n",
       "    <div>\n",
       "      \n",
       "      <progress value='11946' max='11946' style='width:300px; height:20px; vertical-align: middle;'></progress>\n",
       "      [11946/11946 1:19:45, Epoch 6/6]\n",
       "    </div>\n",
       "    <table border=\"1\" class=\"dataframe\">\n",
       "  <thead>\n",
       " <tr style=\"text-align: left;\">\n",
       "      <th>Step</th>\n",
       "      <th>Training Loss</th>\n",
       "    </tr>\n",
       "  </thead>\n",
       "  <tbody>\n",
       "    <tr>\n",
       "      <td>500</td>\n",
       "      <td>0.141500</td>\n",
       "    </tr>\n",
       "    <tr>\n",
       "      <td>1000</td>\n",
       "      <td>0.082400</td>\n",
       "    </tr>\n",
       "    <tr>\n",
       "      <td>1500</td>\n",
       "      <td>0.068400</td>\n",
       "    </tr>\n",
       "    <tr>\n",
       "      <td>2000</td>\n",
       "      <td>0.057900</td>\n",
       "    </tr>\n",
       "    <tr>\n",
       "      <td>2500</td>\n",
       "      <td>0.047200</td>\n",
       "    </tr>\n",
       "    <tr>\n",
       "      <td>3000</td>\n",
       "      <td>0.041500</td>\n",
       "    </tr>\n",
       "    <tr>\n",
       "      <td>3500</td>\n",
       "      <td>0.035200</td>\n",
       "    </tr>\n",
       "    <tr>\n",
       "      <td>4000</td>\n",
       "      <td>0.031700</td>\n",
       "    </tr>\n",
       "    <tr>\n",
       "      <td>4500</td>\n",
       "      <td>0.025300</td>\n",
       "    </tr>\n",
       "    <tr>\n",
       "      <td>5000</td>\n",
       "      <td>0.023400</td>\n",
       "    </tr>\n",
       "    <tr>\n",
       "      <td>5500</td>\n",
       "      <td>0.022100</td>\n",
       "    </tr>\n",
       "    <tr>\n",
       "      <td>6000</td>\n",
       "      <td>0.020800</td>\n",
       "    </tr>\n",
       "    <tr>\n",
       "      <td>6500</td>\n",
       "      <td>0.016500</td>\n",
       "    </tr>\n",
       "    <tr>\n",
       "      <td>7000</td>\n",
       "      <td>0.015400</td>\n",
       "    </tr>\n",
       "    <tr>\n",
       "      <td>7500</td>\n",
       "      <td>0.015200</td>\n",
       "    </tr>\n",
       "    <tr>\n",
       "      <td>8000</td>\n",
       "      <td>0.013700</td>\n",
       "    </tr>\n",
       "    <tr>\n",
       "      <td>8500</td>\n",
       "      <td>0.011500</td>\n",
       "    </tr>\n",
       "    <tr>\n",
       "      <td>9000</td>\n",
       "      <td>0.010700</td>\n",
       "    </tr>\n",
       "    <tr>\n",
       "      <td>9500</td>\n",
       "      <td>0.010100</td>\n",
       "    </tr>\n",
       "    <tr>\n",
       "      <td>10000</td>\n",
       "      <td>0.009900</td>\n",
       "    </tr>\n",
       "    <tr>\n",
       "      <td>10500</td>\n",
       "      <td>0.008200</td>\n",
       "    </tr>\n",
       "    <tr>\n",
       "      <td>11000</td>\n",
       "      <td>0.008500</td>\n",
       "    </tr>\n",
       "    <tr>\n",
       "      <td>11500</td>\n",
       "      <td>0.007400</td>\n",
       "    </tr>\n",
       "  </tbody>\n",
       "</table><p>"
      ],
      "text/plain": [
       "<IPython.core.display.HTML object>"
      ]
     },
     "metadata": {},
     "output_type": "display_data"
    },
    {
     "data": {
      "text/plain": [
       "TrainOutput(global_step=11946, training_loss=0.030632380742274715, metrics={'train_runtime': 4787.4651, 'train_samples_per_second': 39.924, 'train_steps_per_second': 2.495, 'total_flos': 1.257475633717248e+16, 'train_loss': 0.030632380742274715, 'epoch': 6.0})"
      ]
     },
     "execution_count": 23,
     "metadata": {},
     "output_type": "execute_result"
    }
   ],
   "source": [
    "trainer.train()"
   ]
  },
  {
   "cell_type": "code",
   "execution_count": 24,
   "id": "4816c29b-bde0-437a-a54f-ee261bbad443",
   "metadata": {},
   "outputs": [],
   "source": [
    "trainer.save_model()"
   ]
  }
 ],
 "metadata": {
  "kernelspec": {
   "display_name": "Python 3 (ipykernel)",
   "language": "python",
   "name": "python3"
  },
  "language_info": {
   "codemirror_mode": {
    "name": "ipython",
    "version": 3
   },
   "file_extension": ".py",
   "mimetype": "text/x-python",
   "name": "python",
   "nbconvert_exporter": "python",
   "pygments_lexer": "ipython3",
   "version": "3.10.10"
  }
 },
 "nbformat": 4,
 "nbformat_minor": 5
}
