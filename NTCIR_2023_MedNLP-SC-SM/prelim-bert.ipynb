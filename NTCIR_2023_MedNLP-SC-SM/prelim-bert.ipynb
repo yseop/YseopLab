{
 "cells": [
  {
   "cell_type": "code",
   "execution_count": 1,
   "id": "fdf07d16-81ed-4e74-929e-e3daa67d18bd",
   "metadata": {},
   "outputs": [],
   "source": [
    "import pandas as pd"
   ]
  },
  {
   "cell_type": "code",
   "execution_count": 2,
   "id": "2545f732-a772-4d7d-a71f-ac3683deda95",
   "metadata": {},
   "outputs": [],
   "source": [
    "en_df = pd.read_csv(\"train/ntcir17_mednlp-sc_sm_en_train_26_06_23.csv\")\n",
    "fr_df = pd.read_csv(\"train/ntcir17_mednlp-sc_sm_fr_train_26_06_23.csv\")\n",
    "de_df = pd.read_csv(\"train/ntcir17_mednlp-sc_sm_de_train_26_06_23.csv\")\n",
    "ja_df = pd.read_csv(\"train/ntcir17_mednlp-sc_sm_ja_train_26_06_23.csv\")"
   ]
  },
  {
   "cell_type": "code",
   "execution_count": 3,
   "id": "0111777a-49d9-48d9-880c-1c43cc5d5b26",
   "metadata": {},
   "outputs": [],
   "source": [
    "remove_common_name = lambda x: x.split(\":\")[0]"
   ]
  },
  {
   "cell_type": "code",
   "execution_count": 4,
   "id": "12146e4a-5a7d-4025-afd8-8bb675e76932",
   "metadata": {},
   "outputs": [],
   "source": [
    "en_df = en_df.rename(remove_common_name, axis='columns')\n",
    "fr_df = fr_df.rename(remove_common_name, axis='columns')\n",
    "de_df = de_df.rename(remove_common_name, axis='columns')\n",
    "ja_df = ja_df.rename(remove_common_name, axis='columns')"
   ]
  },
  {
   "cell_type": "code",
   "execution_count": 5,
   "id": "8902f3eb-9717-481f-86ad-fca846910a83",
   "metadata": {},
   "outputs": [],
   "source": [
    "ade_columns = ['C0027497', 'C0011991', 'C0015672', 'C0042963', 'C0003123',\n",
    "               'C0018681', 'C0015967', 'C0206062', 'C0023895', 'C0012833',\n",
    "               'C0030193', 'C0002170', 'C0004096', 'C0022658', 'C0020517',\n",
    "               'C0917801', 'C0009806', 'C0005956', 'C0000737', 'C0010692',\n",
    "               'C0015230', 'C0149745']"
   ]
  },
  {
   "cell_type": "code",
   "execution_count": 6,
   "id": "e88dad6e-590a-4ad7-aae0-78887d462258",
   "metadata": {},
   "outputs": [],
   "source": [
    "en_df[\"ade\"] = en_df[en_df[ade_columns] > 0].any(axis='columns')"
   ]
  },
  {
   "cell_type": "code",
   "execution_count": 7,
   "id": "861fae29-9c49-44b5-b9e5-e0841a88d23c",
   "metadata": {},
   "outputs": [],
   "source": [
    "from sklearn.model_selection import train_test_split"
   ]
  },
  {
   "cell_type": "code",
   "execution_count": 8,
   "id": "ce2c8ffd-ae23-4a60-93d1-24e6b6a413ef",
   "metadata": {},
   "outputs": [],
   "source": [
    "en_xtrain, en_xvalid, = train_test_split(en_df, stratify=en_df[\"ade\"], \n",
    "                                                  random_state=42, \n",
    "                                                  test_size=0.1, shuffle=True)"
   ]
  },
  {
   "cell_type": "code",
   "execution_count": 9,
   "id": "393dfea1-65ff-415c-9a2e-e9b8c6ea25f3",
   "metadata": {},
   "outputs": [],
   "source": [
    "fr_train = fr_df[fr_df[\"train_id\"].isin(en_xtrain[\"train_id\"])]\n",
    "de_train = de_df[de_df[\"train_id\"].isin(en_xtrain[\"train_id\"])]\n",
    "ja_train = ja_df[ja_df[\"train_id\"].isin(en_xtrain[\"train_id\"])]\n"
   ]
  },
  {
   "cell_type": "code",
   "execution_count": 10,
   "id": "69a3d0c8-9279-4bed-ad12-374d6351042c",
   "metadata": {},
   "outputs": [],
   "source": [
    "fr_valid = fr_df[fr_df[\"train_id\"].isin(en_xvalid[\"train_id\"])]\n",
    "de_valid = de_df[de_df[\"train_id\"].isin(en_xvalid[\"train_id\"])]\n",
    "ja_valid = ja_df[ja_df[\"train_id\"].isin(en_xvalid[\"train_id\"])]"
   ]
  },
  {
   "cell_type": "code",
   "execution_count": 11,
   "id": "6dbe2585-9928-4ed4-b390-37431156036f",
   "metadata": {},
   "outputs": [],
   "source": [
    "en_xtrain = en_xtrain.drop(columns=[\"ade\"])"
   ]
  },
  {
   "cell_type": "code",
   "execution_count": 12,
   "id": "865f01b3-745b-4c6d-a06e-cfa492bfb1e9",
   "metadata": {},
   "outputs": [],
   "source": [
    "comb_train = pd.concat([en_xtrain, fr_train, de_train, ja_train])"
   ]
  },
  {
   "cell_type": "code",
   "execution_count": 13,
   "id": "fb9a3b78-5853-464e-822d-7cdd7b554074",
   "metadata": {},
   "outputs": [],
   "source": [
    "comb_train[ade_columns] = comb_train[ade_columns].astype(float)\n",
    "comb_train[\"labels\"] = comb_train[ade_columns].values.tolist()\n",
    "xtrain_ds = comb_train.drop(columns=ade_columns+[\"train_id\"])\n",
    "xtrain_ds = xtrain_ds.sample(frac=1).reset_index(drop=True)"
   ]
  },
  {
   "cell_type": "code",
   "execution_count": 14,
   "id": "0906b310-e2e9-40fa-b115-41efaa9dbe26",
   "metadata": {},
   "outputs": [],
   "source": [
    "en_xvalid = en_xvalid.drop(columns=[\"ade\"])\n",
    "comb_valid = pd.concat([en_xvalid, fr_valid, de_valid, ja_valid])\n",
    "comb_valid[ade_columns] =comb_valid[ade_columns].astype(float)\n",
    "comb_valid[\"labels\"] = comb_valid[ade_columns].values.tolist()\n",
    "xvalid_ds = comb_valid.drop(columns=ade_columns+[\"train_id\"])"
   ]
  },
  {
   "cell_type": "code",
   "execution_count": 15,
   "id": "f99074f2-dc59-42ae-81d9-d4539066d91e",
   "metadata": {},
   "outputs": [],
   "source": [
    "id2label = {idx:label for idx, label in enumerate(ade_columns)}\n",
    "label2id = {label:idx for idx, label in enumerate(ade_columns)}"
   ]
  },
  {
   "cell_type": "code",
   "execution_count": 16,
   "id": "c9d6af95-05b8-4abe-a9cd-f1f1cae49927",
   "metadata": {},
   "outputs": [],
   "source": [
    "from transformers import AutoTokenizer\n",
    "import numpy as np\n",
    "tokenizer = AutoTokenizer.from_pretrained(\"bert-base-multilingual-cased\")"
   ]
  },
  {
   "cell_type": "code",
   "execution_count": 17,
   "id": "52f08da0-900f-4d76-8da0-864b7b38a9a0",
   "metadata": {},
   "outputs": [],
   "source": [
    "import datasets\n",
    "from datasets import Dataset"
   ]
  },
  {
   "cell_type": "code",
   "execution_count": 18,
   "id": "5f258a52-8da3-4f04-a553-1512e32eb56d",
   "metadata": {},
   "outputs": [],
   "source": [
    "ds = Dataset.from_pandas(xtrain_ds, preserve_index=False)"
   ]
  },
  {
   "cell_type": "code",
   "execution_count": 19,
   "id": "dc28c7d2-7f48-4345-a2b1-0fc8766c144e",
   "metadata": {},
   "outputs": [],
   "source": [
    "def preprocess_data(examples):\n",
    "    # take a batch of texts\n",
    "    # encode them\n",
    "    encoding = tokenizer(examples[\"text\"], padding=\"max_length\", truncation=True, max_length=128)\n",
    "    encoding[\"labels\"] = examples[\"labels\"]\n",
    "    return encoding"
   ]
  },
  {
   "cell_type": "code",
   "execution_count": 20,
   "id": "7e5692e6-4ab5-492f-945d-523993f0d108",
   "metadata": {},
   "outputs": [
    {
     "data": {
      "application/vnd.jupyter.widget-view+json": {
       "model_id": "",
       "version_major": 2,
       "version_minor": 0
      },
      "text/plain": [
       "Map:   0%|          | 0/28668 [00:00<?, ? examples/s]"
      ]
     },
     "metadata": {},
     "output_type": "display_data"
    }
   ],
   "source": [
    "encoded_dataset = ds.map(preprocess_data, batched=True, remove_columns=ds.column_names)"
   ]
  },
  {
   "cell_type": "code",
   "execution_count": 21,
   "id": "80091162-5f53-42db-8004-78800e37dcb5",
   "metadata": {},
   "outputs": [
    {
     "data": {
      "application/vnd.jupyter.widget-view+json": {
       "model_id": "",
       "version_major": 2,
       "version_minor": 0
      },
      "text/plain": [
       "Map:   0%|          | 0/3188 [00:00<?, ? examples/s]"
      ]
     },
     "metadata": {},
     "output_type": "display_data"
    }
   ],
   "source": [
    "valid_ds = Dataset.from_pandas(xvalid_ds, preserve_index=False)\n",
    "valid_ds = valid_ds.map(preprocess_data, batched=True, remove_columns=valid_ds.column_names)"
   ]
  },
  {
   "cell_type": "code",
   "execution_count": 22,
   "id": "b75571b6-de2d-4fc4-84a4-60eb69bc7a36",
   "metadata": {},
   "outputs": [],
   "source": [
    "valid_ds.set_format(\"torch\")"
   ]
  },
  {
   "cell_type": "code",
   "execution_count": 23,
   "id": "a412c998-ce1a-4fd7-bff4-653ea2f38632",
   "metadata": {},
   "outputs": [],
   "source": [
    "encoded_dataset.set_format(\"torch\")"
   ]
  },
  {
   "cell_type": "code",
   "execution_count": 24,
   "id": "ce21a989-b288-4ed3-ba28-5bdf2a515f7d",
   "metadata": {},
   "outputs": [
    {
     "name": "stderr",
     "output_type": "stream",
     "text": [
      "Some weights of the model checkpoint at bert-base-multilingual-cased were not used when initializing BertForSequenceClassification: ['cls.seq_relationship.weight', 'cls.predictions.transform.LayerNorm.weight', 'cls.predictions.decoder.weight', 'cls.seq_relationship.bias', 'cls.predictions.transform.LayerNorm.bias', 'cls.predictions.transform.dense.bias', 'cls.predictions.bias', 'cls.predictions.transform.dense.weight']\n",
      "- This IS expected if you are initializing BertForSequenceClassification from the checkpoint of a model trained on another task or with another architecture (e.g. initializing a BertForSequenceClassification model from a BertForPreTraining model).\n",
      "- This IS NOT expected if you are initializing BertForSequenceClassification from the checkpoint of a model that you expect to be exactly identical (initializing a BertForSequenceClassification model from a BertForSequenceClassification model).\n",
      "Some weights of BertForSequenceClassification were not initialized from the model checkpoint at bert-base-multilingual-cased and are newly initialized: ['classifier.weight', 'classifier.bias']\n",
      "You should probably TRAIN this model on a down-stream task to be able to use it for predictions and inference.\n"
     ]
    }
   ],
   "source": [
    "from transformers import AutoModelForSequenceClassification\n",
    "model = AutoModelForSequenceClassification.from_pretrained(\"bert-base-multilingual-cased\",\n",
    "                                                           problem_type=\"multi_label_classification\",\n",
    "                                                           num_labels=len(ade_columns),\n",
    "                                                           id2label=id2label,\n",
    "                                                           label2id=label2id)"
   ]
  },
  {
   "cell_type": "code",
   "execution_count": 25,
   "id": "28ec5b0c-3130-4de1-8d38-c1d831123d01",
   "metadata": {},
   "outputs": [],
   "source": [
    "from sklearn.metrics import f1_score"
   ]
  },
  {
   "cell_type": "code",
   "execution_count": 26,
   "id": "220cd656-70cb-4bce-9d65-7639c2e7d54e",
   "metadata": {},
   "outputs": [],
   "source": [
    "import torch\n",
    "def multi_label_metrics(predictions, labels, threshold=0.5):\n",
    "    # first, apply sigmoid on predictions which are of shape (batch_size, num_labels)\n",
    "    sigmoid = torch.nn.Sigmoid()\n",
    "    probs = sigmoid(torch.Tensor(predictions))\n",
    "    # next, use threshold to turn them into integer predictions\n",
    "    y_pred = np.zeros(probs.shape)\n",
    "    y_pred[np.where(probs > threshold)] = 1\n",
    "    # finally, compute metrics\n",
    "    y_true = labels\n",
    "    \n",
    "    return {'f1': f1_score(labels.sum(axis=1)>0,\n",
    "                           y_pred.sum(axis=1)>0)}"
   ]
  },
  {
   "cell_type": "code",
   "execution_count": 27,
   "id": "b1c38001-d17f-4aa9-962d-21f8e65ce6f1",
   "metadata": {},
   "outputs": [],
   "source": [
    "def compute_metrics(p):\n",
    "    preds = p.predictions[0] if isinstance(p.predictions,\n",
    "            tuple) else p.predictions\n",
    "    result = multi_label_metrics(\n",
    "        predictions=preds,\n",
    "        labels=p.label_ids)\n",
    "    return result"
   ]
  },
  {
   "cell_type": "code",
   "execution_count": 28,
   "id": "7e156166-8520-4c5d-bcf5-61b33783825f",
   "metadata": {},
   "outputs": [],
   "source": [
    "from transformers import TrainingArguments, Trainer\n",
    "batch_size = 16\n",
    "args = TrainingArguments(\n",
    "    f\"bert-finetuned-pharma\",\n",
    "    evaluation_strategy = \"epoch\",\n",
    "    save_strategy = \"epoch\",\n",
    "    learning_rate=2e-5,\n",
    "    per_device_train_batch_size=batch_size,\n",
    "    per_device_eval_batch_size=batch_size,\n",
    "    num_train_epochs=10,\n",
    "    weight_decay=0.01,\n",
    "    load_best_model_at_end=True,\n",
    "    metric_for_best_model=\"f1\",\n",
    "    #push_to_hub=True,\n",
    ")"
   ]
  },
  {
   "cell_type": "code",
   "execution_count": 29,
   "id": "e203418a-a6cb-4748-b394-64c62498e0a5",
   "metadata": {},
   "outputs": [
    {
     "name": "stdout",
     "output_type": "stream",
     "text": [
      "SequenceClassifierOutput(loss=tensor(0.7104, grad_fn=<BinaryCrossEntropyWithLogitsBackward0>), logits=tensor([[-0.1844, -0.2064,  0.0385, -0.0389,  0.3094,  0.0973,  0.1405, -0.1405,\n",
      "          0.1129,  0.0345, -0.0301,  0.0492,  0.1771,  0.0052,  0.2099, -0.0658,\n",
      "          0.1195, -0.1462, -0.0670, -0.0257,  0.1055,  0.1667]],\n",
      "       grad_fn=<AddmmBackward0>), hidden_states=None, attentions=None)\n"
     ]
    }
   ],
   "source": [
    "outputs = model(input_ids=encoded_dataset['input_ids'][0].unsqueeze(0), labels=encoded_dataset[0]['labels'].unsqueeze(0))\n",
    "print(outputs)"
   ]
  },
  {
   "cell_type": "code",
   "execution_count": 30,
   "id": "35cdc2d7-fe58-4ffe-98a2-7745e5c70d67",
   "metadata": {},
   "outputs": [],
   "source": [
    "trainer = Trainer(\n",
    "    model,\n",
    "    args,\n",
    "    train_dataset=encoded_dataset,\n",
    "    eval_dataset=valid_ds,\n",
    "    tokenizer=tokenizer,\n",
    "    compute_metrics=compute_metrics\n",
    ")"
   ]
  },
  {
   "cell_type": "code",
   "execution_count": 31,
   "id": "81673027-0b45-4a8a-b88d-aafa5e0ed084",
   "metadata": {},
   "outputs": [
    {
     "name": "stderr",
     "output_type": "stream",
     "text": [
      "/home/vahbuna/mambaforge/lib/python3.10/site-packages/transformers/optimization.py:391: FutureWarning: This implementation of AdamW is deprecated and will be removed in a future version. Use the PyTorch implementation torch.optim.AdamW instead, or set `no_deprecation_warning=True` to disable this warning\n",
      "  warnings.warn(\n",
      "You're using a BertTokenizerFast tokenizer. Please note that with a fast tokenizer, using the `__call__` method is faster than using a method to encode the text followed by a call to the `pad` method to get a padded encoding.\n"
     ]
    },
    {
     "data": {
      "text/html": [
       "\n",
       "    <div>\n",
       "      \n",
       "      <progress value='17920' max='17920' style='width:300px; height:20px; vertical-align: middle;'></progress>\n",
       "      [17920/17920 3:03:52, Epoch 10/10]\n",
       "    </div>\n",
       "    <table border=\"1\" class=\"dataframe\">\n",
       "  <thead>\n",
       " <tr style=\"text-align: left;\">\n",
       "      <th>Epoch</th>\n",
       "      <th>Training Loss</th>\n",
       "      <th>Validation Loss</th>\n",
       "      <th>F1</th>\n",
       "    </tr>\n",
       "  </thead>\n",
       "  <tbody>\n",
       "    <tr>\n",
       "      <td>1</td>\n",
       "      <td>0.069500</td>\n",
       "      <td>0.058865</td>\n",
       "      <td>0.702174</td>\n",
       "    </tr>\n",
       "    <tr>\n",
       "      <td>2</td>\n",
       "      <td>0.036100</td>\n",
       "      <td>0.035282</td>\n",
       "      <td>0.765591</td>\n",
       "    </tr>\n",
       "    <tr>\n",
       "      <td>3</td>\n",
       "      <td>0.023900</td>\n",
       "      <td>0.031023</td>\n",
       "      <td>0.808081</td>\n",
       "    </tr>\n",
       "    <tr>\n",
       "      <td>4</td>\n",
       "      <td>0.016400</td>\n",
       "      <td>0.031690</td>\n",
       "      <td>0.817962</td>\n",
       "    </tr>\n",
       "    <tr>\n",
       "      <td>5</td>\n",
       "      <td>0.011600</td>\n",
       "      <td>0.031234</td>\n",
       "      <td>0.813511</td>\n",
       "    </tr>\n",
       "    <tr>\n",
       "      <td>6</td>\n",
       "      <td>0.007600</td>\n",
       "      <td>0.035421</td>\n",
       "      <td>0.820171</td>\n",
       "    </tr>\n",
       "    <tr>\n",
       "      <td>7</td>\n",
       "      <td>0.005700</td>\n",
       "      <td>0.037638</td>\n",
       "      <td>0.821394</td>\n",
       "    </tr>\n",
       "    <tr>\n",
       "      <td>8</td>\n",
       "      <td>0.004100</td>\n",
       "      <td>0.040852</td>\n",
       "      <td>0.812381</td>\n",
       "    </tr>\n",
       "    <tr>\n",
       "      <td>9</td>\n",
       "      <td>0.003300</td>\n",
       "      <td>0.041777</td>\n",
       "      <td>0.817425</td>\n",
       "    </tr>\n",
       "    <tr>\n",
       "      <td>10</td>\n",
       "      <td>0.002500</td>\n",
       "      <td>0.041619</td>\n",
       "      <td>0.819076</td>\n",
       "    </tr>\n",
       "  </tbody>\n",
       "</table><p>"
      ],
      "text/plain": [
       "<IPython.core.display.HTML object>"
      ]
     },
     "metadata": {},
     "output_type": "display_data"
    },
    {
     "data": {
      "text/plain": [
       "TrainOutput(global_step=17920, training_loss=0.02082275575292962, metrics={'train_runtime': 11035.5504, 'train_samples_per_second': 25.978, 'train_steps_per_second': 1.624, 'total_flos': 1.88605555559424e+16, 'train_loss': 0.02082275575292962, 'epoch': 10.0})"
      ]
     },
     "execution_count": 31,
     "metadata": {},
     "output_type": "execute_result"
    }
   ],
   "source": [
    "trainer.train()"
   ]
  },
  {
   "cell_type": "code",
   "execution_count": 32,
   "id": "4816c29b-bde0-437a-a54f-ee261bbad443",
   "metadata": {},
   "outputs": [],
   "source": [
    "trainer.save_model()"
   ]
  },
  {
   "cell_type": "code",
   "execution_count": 33,
   "id": "315129bb-d88e-4da6-88ac-14c840eb30ae",
   "metadata": {},
   "outputs": [],
   "source": [
    "eval_loss = []\n",
    "eval_f1 = []\n",
    "train_loss = []\n",
    "for log_dict in trainer.state.log_history:\n",
    "    if 'eval_loss' in log_dict:\n",
    "        eval_loss.append(log_dict['eval_loss'])\n",
    "        eval_f1.append(log_dict['eval_f1'])\n",
    "        train_loss.append(old_dict['loss'])\n",
    "    old_dict = log_dict"
   ]
  },
  {
   "cell_type": "code",
   "execution_count": 34,
   "id": "c052ab34-f5a8-486d-b957-d7ab77ef61d5",
   "metadata": {},
   "outputs": [
    {
     "name": "stderr",
     "output_type": "stream",
     "text": [
      "/tmp/ipykernel_2597/1276038659.py:2: MatplotlibDeprecationWarning: The seaborn styles shipped by Matplotlib are deprecated since 3.6, as they no longer correspond to the styles shipped by seaborn. However, they will remain available as 'seaborn-v0_8-<style>'. Alternatively, directly use the seaborn API instead.\n",
      "  plt.style.use('seaborn-whitegrid')\n"
     ]
    }
   ],
   "source": [
    "import matplotlib.pyplot as plt\n",
    "plt.style.use('seaborn-whitegrid')\n",
    "import numpy as np"
   ]
  },
  {
   "cell_type": "code",
   "execution_count": 35,
   "id": "4ff1e382-f4a0-4a5d-bf62-0220f5b11f3c",
   "metadata": {},
   "outputs": [],
   "source": [
    "%matplotlib inline"
   ]
  },
  {
   "cell_type": "code",
   "execution_count": 38,
   "id": "7052ee23-5637-42ed-bf80-59f9909025ea",
   "metadata": {},
   "outputs": [
    {
     "data": {
      "image/png": "[encoded data removed]",
      "text/plain": [
       "<Figure size 640x480 with 2 Axes>"
      ]
     },
     "metadata": {},
     "output_type": "display_data"
    }
   ],
   "source": [
    "fig, ax1 = plt.subplots()\n",
    "\n",
    "color = 'tab:red'\n",
    "ax1.set_xlabel('Epochs')\n",
    "ax1.set_ylabel('Eval Loss', color=color)\n",
    "ax1.plot(x, eval_loss, color=color)\n",
    "ax1.tick_params(axis='y', labelcolor=color)\n",
    "\n",
    "ax2 = ax1.twinx()  # instantiate a second axes that shares the same x-axis\n",
    "\n",
    "color = 'tab:blue'\n",
    "ax2.set_ylabel('Eval f1', color=color)  # we already handled the x-label with ax1\n",
    "ax2.plot(x, eval_f1, color=color)\n",
    "ax2.tick_params(axis='y', labelcolor=color)\n",
    "\n",
    "fig.tight_layout()  # otherwise the right y-label is slightly clipped\n",
    "fig.savefig('bert-f1-loss.png')"
   ]
  }
 ],
 "metadata": {
  "kernelspec": {
   "display_name": "Python 3 (ipykernel)",
   "language": "python",
   "name": "python3"
  },
  "language_info": {
   "codemirror_mode": {
    "name": "ipython",
    "version": 3
   },
   "file_extension": ".py",
   "mimetype": "text/x-python",
   "name": "python",
   "nbconvert_exporter": "python",
   "pygments_lexer": "ipython3",
   "version": "3.10.10"
  }
 },
 "nbformat": 4,
 "nbformat_minor": 5
}
