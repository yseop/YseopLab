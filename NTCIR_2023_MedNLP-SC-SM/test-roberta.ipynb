{
 "cells": [
  {
   "cell_type": "code",
   "execution_count": 1,
   "id": "3ca6a177-6cd7-4b44-9ab3-529914093d2d",
   "metadata": {},
   "outputs": [],
   "source": [
    "import numpy as np\n",
    "import pandas as pd\n",
    "import torch\n",
    "from transformers import AutoTokenizer, AutoModelForSequenceClassification"
   ]
  },
  {
   "cell_type": "code",
   "execution_count": 2,
   "id": "f1d4a082-1820-41c9-b2ad-da59a7f851b0",
   "metadata": {},
   "outputs": [],
   "source": [
    "tokenizer = AutoTokenizer.from_pretrained(\"robert-finetuned-pharma\")\n",
    "model = AutoModelForSequenceClassification.from_pretrained(\"robert-finetuned-pharma\")"
   ]
  },
  {
   "cell_type": "code",
   "execution_count": 3,
   "id": "2915225a-dfb0-45ba-aad6-5777d61fe4f7",
   "metadata": {},
   "outputs": [],
   "source": [
    "!mkdir roberta-results"
   ]
  },
  {
   "cell_type": "code",
   "execution_count": 9,
   "id": "a3568492-4da1-41d2-aeaf-7bffde48f403",
   "metadata": {},
   "outputs": [],
   "source": [
    "sigmoid = torch.nn.Sigmoid()\n",
    "for file in [\"test/ntcir17_mednlp-sc_sm_ja_test.csv\", \"test/ntcir17_mednlp-sc_sm_en_test.csv\",\n",
    "             \"test/ntcir17_mednlp-sc_sm_de_test.csv\", \"test/ntcir17_mednlp-sc_sm_fr_test.csv\"]:\n",
    "    test_df = pd.read_csv(file)\n",
    "    for i in range(test_df.shape[0]):\n",
    "        text = test_df.iloc[i,1]\n",
    "        encoding = tokenizer(text, return_tensors=\"pt\")\n",
    "        encoding = {k: v.to(model.device) for k,v in encoding.items()}\n",
    "        outputs = model(**encoding)\n",
    "        probs = sigmoid(outputs.logits.squeeze().cpu())\n",
    "        predictions = np.zeros(probs.shape)\n",
    "        predictions[np.where(probs >= 0.5)] = 1\n",
    "        test_df.iloc[i,2:] = predictions\n",
    "    test_df.to_csv(\"roberta-results/\" + file, index=False)"
   ]
  },
  {
   "cell_type": "code",
   "execution_count": null,
   "id": "3b8a672c-2352-41b5-9da1-0237dc4a49b8",
   "metadata": {},
   "outputs": [],
   "source": []
  }
 ],
 "metadata": {
  "kernelspec": {
   "display_name": "Python 3 (ipykernel)",
   "language": "python",
   "name": "python3"
  },
  "language_info": {
   "codemirror_mode": {
    "name": "ipython",
    "version": 3
   },
   "file_extension": ".py",
   "mimetype": "text/x-python",
   "name": "python",
   "nbconvert_exporter": "python",
   "pygments_lexer": "ipython3",
   "version": "3.10.10"
  }
 },
 "nbformat": 4,
 "nbformat_minor": 5
}
