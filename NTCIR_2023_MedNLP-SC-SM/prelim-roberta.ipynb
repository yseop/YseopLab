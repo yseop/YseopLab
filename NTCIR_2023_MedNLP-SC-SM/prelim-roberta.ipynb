{
 "cells": [
  {
   "cell_type": "code",
   "execution_count": 1,
   "id": "82e30665-8c61-4902-890b-1f0ba67ae312",
   "metadata": {
    "tags": []
   },
   "outputs": [],
   "source": [
    "import pandas as pd"
   ]
  },
  {
   "cell_type": "code",
   "execution_count": 8,
   "id": "4e88a3d6-41e7-4a71-a0be-d3a06c663b4f",
   "metadata": {
    "tags": []
   },
   "outputs": [],
   "source": [
    "en_df = pd.read_csv(\"train/ntcir17_mednlp-sc_sm_en_train_26_06_23.csv\")\n",
    "fr_df = pd.read_csv(\"train/ntcir17_mednlp-sc_sm_fr_train_26_06_23.csv\")\n",
    "de_df = pd.read_csv(\"train/ntcir17_mednlp-sc_sm_de_train_26_06_23.csv\")\n",
    "ja_df = pd.read_csv(\"train/ntcir17_mednlp-sc_sm_ja_train_26_06_23.csv\")"
   ]
  },
  {
   "cell_type": "code",
   "execution_count": 9,
   "id": "0f6b0509-c49d-470c-825d-558608d40de3",
   "metadata": {
    "tags": []
   },
   "outputs": [],
   "source": [
    "remove_common_name = lambda x: x.split(\":\")[0]"
   ]
  },
  {
   "cell_type": "code",
   "execution_count": 10,
   "id": "107fff43-b290-4537-98ae-64a3c7948574",
   "metadata": {
    "tags": []
   },
   "outputs": [],
   "source": [
    "en_df = en_df.rename(remove_common_name, axis='columns')\n",
    "fr_df = fr_df.rename(remove_common_name, axis='columns')\n",
    "de_df = de_df.rename(remove_common_name, axis='columns')\n",
    "ja_df = ja_df.rename(remove_common_name, axis='columns')"
   ]
  },
  {
   "cell_type": "code",
   "execution_count": 11,
   "id": "44b57ef3-0556-49b3-9837-864e50431f4f",
   "metadata": {
    "tags": []
   },
   "outputs": [],
   "source": [
    "ade_columns = ['C0027497', 'C0011991', 'C0015672', 'C0042963', 'C0003123',\n",
    "               'C0018681', 'C0015967', 'C0206062', 'C0023895', 'C0012833',\n",
    "               'C0030193', 'C0002170', 'C0004096', 'C0022658', 'C0020517',\n",
    "               'C0917801', 'C0009806', 'C0005956', 'C0000737', 'C0010692',\n",
    "               'C0015230', 'C0149745']"
   ]
  },
  {
   "cell_type": "code",
   "execution_count": 12,
   "id": "9af06242-f59b-49ae-b0b5-43c0afd91b04",
   "metadata": {
    "tags": []
   },
   "outputs": [],
   "source": [
    "en_df[\"ade\"] = en_df[en_df[ade_columns] > 0].any(axis='columns')"
   ]
  },
  {
   "cell_type": "code",
   "execution_count": 13,
   "id": "fc9fdd6c-5392-4e2c-abb9-ef12317a2d0e",
   "metadata": {
    "tags": []
   },
   "outputs": [],
   "source": [
    "from sklearn.model_selection import train_test_split"
   ]
  },
  {
   "cell_type": "code",
   "execution_count": 14,
   "id": "ef8b0401-aa0e-4bfb-96cb-d11e4759877d",
   "metadata": {
    "tags": []
   },
   "outputs": [],
   "source": [
    "en_xtrain, en_xvalid, = train_test_split(en_df, stratify=en_df[\"ade\"], \n",
    "                                                  random_state=42, \n",
    "                                                  test_size=0.1, shuffle=True)"
   ]
  },
  {
   "cell_type": "code",
   "execution_count": 15,
   "id": "4229d454-40f8-41b8-9497-c3198c16e69e",
   "metadata": {
    "tags": []
   },
   "outputs": [],
   "source": [
    "fr_train = fr_df[fr_df[\"train_id\"].isin(en_xtrain[\"train_id\"])]\n",
    "de_train = de_df[de_df[\"train_id\"].isin(en_xtrain[\"train_id\"])]\n",
    "ja_train = ja_df[ja_df[\"train_id\"].isin(en_xtrain[\"train_id\"])]"
   ]
  },
  {
   "cell_type": "code",
   "execution_count": 16,
   "id": "5aef5fc5-d491-4794-a99c-5fb223e5555b",
   "metadata": {
    "tags": []
   },
   "outputs": [],
   "source": [
    "fr_valid = fr_df[fr_df[\"train_id\"].isin(en_xvalid[\"train_id\"])]\n",
    "de_valid = de_df[de_df[\"train_id\"].isin(en_xvalid[\"train_id\"])]\n",
    "ja_valid = ja_df[ja_df[\"train_id\"].isin(en_xvalid[\"train_id\"])]"
   ]
  },
  {
   "cell_type": "code",
   "execution_count": 17,
   "id": "fea4cd02-7112-43fb-bb55-b05397f2a6b5",
   "metadata": {
    "tags": []
   },
   "outputs": [],
   "source": [
    "en_xtrain = en_xtrain.drop(columns=[\"ade\"])"
   ]
  },
  {
   "cell_type": "code",
   "execution_count": 18,
   "id": "9d1acd2d-c2f2-4b9c-9fcd-a760d1d6a838",
   "metadata": {
    "tags": []
   },
   "outputs": [],
   "source": [
    "comb_train = pd.concat([en_xtrain, fr_train, de_train, ja_train])\n",
    "comb_train[ade_columns] = comb_train[ade_columns].astype(float)\n",
    "comb_train[\"labels\"] = comb_train[ade_columns].values.tolist()\n",
    "xtrain_ds = comb_train.drop(columns=ade_columns+[\"train_id\"])\n",
    "xtrain_ds = xtrain_ds.sample(frac=1).reset_index(drop=True)"
   ]
  },
  {
   "cell_type": "code",
   "execution_count": 19,
   "id": "f411265a-b07b-40d9-acbc-c63096154fcd",
   "metadata": {
    "tags": []
   },
   "outputs": [],
   "source": [
    "en_valid = en_xvalid.drop(columns=[\"ade\"])\n",
    "comb_valid = pd.concat([en_valid, fr_valid, de_valid, ja_valid])\n",
    "comb_valid[ade_columns] = comb_valid[ade_columns].astype(float)\n",
    "comb_valid[\"labels\"] = comb_valid[ade_columns].values.tolist()\n",
    "xvalid_ds = comb_valid.drop(columns=ade_columns+[\"train_id\"])"
   ]
  },
  {
   "cell_type": "code",
   "execution_count": 20,
   "id": "9e462b44-13c7-4bef-9010-281ad97c4bb6",
   "metadata": {
    "tags": []
   },
   "outputs": [],
   "source": [
    "id2label = {idx:label for idx, label in enumerate(ade_columns)}\n",
    "label2id = {label:idx for idx, label in enumerate(ade_columns)}"
   ]
  },
  {
   "cell_type": "code",
   "execution_count": 21,
   "id": "827d072f-e871-4d42-b9ad-564df1ca3cb1",
   "metadata": {
    "tags": []
   },
   "outputs": [],
   "source": [
    "!pip install transformers[torch]==4.28.1 datasets==2.12.0 --q"
   ]
  },
  {
   "cell_type": "code",
   "execution_count": 22,
   "id": "adbcf734-3847-4056-9f14-920fb75e0892",
   "metadata": {
    "tags": []
   },
   "outputs": [],
   "source": [
    "import datasets\n",
    "from datasets import Dataset"
   ]
  },
  {
   "cell_type": "code",
   "execution_count": 23,
   "id": "296b7eb6-7585-4b8a-bd9d-d7cbaa137e55",
   "metadata": {
    "tags": []
   },
   "outputs": [],
   "source": [
    "train_ds = Dataset.from_pandas(xtrain_ds, preserve_index=False)"
   ]
  },
  {
   "cell_type": "code",
   "execution_count": 24,
   "id": "33a18ef0-92bc-41bc-93e0-4d733f765051",
   "metadata": {
    "tags": []
   },
   "outputs": [
    {
     "data": {
      "application/vnd.jupyter.widget-view+json": {
       "model_id": "0d5862ce1ebf4fb2b9fd2486fb5c22d6",
       "version_major": 2,
       "version_minor": 0
      },
      "text/plain": [
       "Downloading (…)lve/main/config.json:   0%|          | 0.00/616 [00:00<?, ?B/s]"
      ]
     },
     "metadata": {},
     "output_type": "display_data"
    },
    {
     "data": {
      "application/vnd.jupyter.widget-view+json": {
       "model_id": "2d1e78da4b964b87a84bdd81771c8a13",
       "version_major": 2,
       "version_minor": 0
      },
      "text/plain": [
       "Downloading (…)tencepiece.bpe.model:   0%|          | 0.00/5.07M [00:00<?, ?B/s]"
      ]
     },
     "metadata": {},
     "output_type": "display_data"
    },
    {
     "data": {
      "application/vnd.jupyter.widget-view+json": {
       "model_id": "4e593bec7d8f4e7684efbd347125e702",
       "version_major": 2,
       "version_minor": 0
      },
      "text/plain": [
       "Downloading (…)/main/tokenizer.json:   0%|          | 0.00/9.10M [00:00<?, ?B/s]"
      ]
     },
     "metadata": {},
     "output_type": "display_data"
    }
   ],
   "source": [
    "from transformers import AutoTokenizer\n",
    "import numpy as np\n",
    "tokenizer = AutoTokenizer.from_pretrained(\"xlm-roberta-large\")"
   ]
  },
  {
   "cell_type": "code",
   "execution_count": 25,
   "id": "def5f5e1-96fc-44e8-998f-f382a338ec0a",
   "metadata": {
    "tags": []
   },
   "outputs": [],
   "source": [
    "def preprocess_data(examples):\n",
    "    # take a batch of texts\n",
    "    # encode them\n",
    "    encoding = tokenizer(examples[\"text\"], padding=\"max_length\", truncation=True, max_length=128)\n",
    "    encoding[\"labels\"] = examples[\"labels\"]\n",
    "    return encoding"
   ]
  },
  {
   "cell_type": "code",
   "execution_count": 26,
   "id": "0926796c-69d7-4367-ba24-3d2117e92537",
   "metadata": {
    "tags": []
   },
   "outputs": [
    {
     "data": {
      "application/vnd.jupyter.widget-view+json": {
       "model_id": "",
       "version_major": 2,
       "version_minor": 0
      },
      "text/plain": [
       "Map:   0%|          | 0/28668 [00:00<?, ? examples/s]"
      ]
     },
     "metadata": {},
     "output_type": "display_data"
    }
   ],
   "source": [
    "train_ds = train_ds.map(preprocess_data, batched=True, remove_columns=train_ds.column_names)"
   ]
  },
  {
   "cell_type": "code",
   "execution_count": 27,
   "id": "f95d93d6-67a5-4a31-9b3d-4e5e241bff41",
   "metadata": {
    "tags": []
   },
   "outputs": [],
   "source": [
    "train_ds.set_format(\"torch\")"
   ]
  },
  {
   "cell_type": "code",
   "execution_count": 28,
   "id": "36989aea-a34b-4ed0-ba75-f5dac59e6490",
   "metadata": {
    "tags": []
   },
   "outputs": [
    {
     "data": {
      "application/vnd.jupyter.widget-view+json": {
       "model_id": "",
       "version_major": 2,
       "version_minor": 0
      },
      "text/plain": [
       "Map:   0%|          | 0/3188 [00:00<?, ? examples/s]"
      ]
     },
     "metadata": {},
     "output_type": "display_data"
    }
   ],
   "source": [
    "valid_ds = Dataset.from_pandas(xvalid_ds, preserve_index=False)\n",
    "valid_ds = valid_ds.map(preprocess_data, batched=True, remove_columns=valid_ds.column_names)\n",
    "valid_ds.set_format(\"torch\")"
   ]
  },
  {
   "cell_type": "code",
   "execution_count": 29,
   "id": "2614d122-5593-45c6-8f7a-1354f2bd4cd1",
   "metadata": {
    "tags": []
   },
   "outputs": [
    {
     "data": {
      "application/vnd.jupyter.widget-view+json": {
       "model_id": "85138ce1a9f741e486ed6162d7674e96",
       "version_major": 2,
       "version_minor": 0
      },
      "text/plain": [
       "Downloading pytorch_model.bin:   0%|          | 0.00/2.24G [00:00<?, ?B/s]"
      ]
     },
     "metadata": {},
     "output_type": "display_data"
    },
    {
     "name": "stderr",
     "output_type": "stream",
     "text": [
      "Some weights of the model checkpoint at xlm-roberta-large were not used when initializing XLMRobertaForSequenceClassification: ['lm_head.dense.bias', 'roberta.pooler.dense.bias', 'lm_head.layer_norm.weight', 'lm_head.decoder.weight', 'lm_head.layer_norm.bias', 'lm_head.bias', 'roberta.pooler.dense.weight', 'lm_head.dense.weight']\n",
      "- This IS expected if you are initializing XLMRobertaForSequenceClassification from the checkpoint of a model trained on another task or with another architecture (e.g. initializing a BertForSequenceClassification model from a BertForPreTraining model).\n",
      "- This IS NOT expected if you are initializing XLMRobertaForSequenceClassification from the checkpoint of a model that you expect to be exactly identical (initializing a BertForSequenceClassification model from a BertForSequenceClassification model).\n",
      "Some weights of XLMRobertaForSequenceClassification were not initialized from the model checkpoint at xlm-roberta-large and are newly initialized: ['classifier.out_proj.weight', 'classifier.out_proj.bias', 'classifier.dense.bias', 'classifier.dense.weight']\n",
      "You should probably TRAIN this model on a down-stream task to be able to use it for predictions and inference.\n"
     ]
    }
   ],
   "source": [
    "from transformers import AutoModelForSequenceClassification\n",
    "model = AutoModelForSequenceClassification.from_pretrained(\"xlm-roberta-large\",\n",
    "                                                           problem_type=\"multi_label_classification\",\n",
    "                                                           num_labels=len(ade_columns),\n",
    "                                                           id2label=id2label,\n",
    "                                                           label2id=label2id)"
   ]
  },
  {
   "cell_type": "code",
   "execution_count": 30,
   "id": "a51fa3df-c96d-4f32-b39c-5143f5e93f91",
   "metadata": {
    "tags": []
   },
   "outputs": [],
   "source": [
    "from sklearn.metrics import f1_score"
   ]
  },
  {
   "cell_type": "code",
   "execution_count": 31,
   "id": "dbfb29c7-9913-4a21-9377-967ad11536f3",
   "metadata": {
    "tags": []
   },
   "outputs": [],
   "source": [
    "import torch\n",
    "def multi_label_metrics(predictions, labels, threshold=0.5):\n",
    "    # first, apply sigmoid on predictions which are of shape (batch_size, num_labels)\n",
    "    sigmoid = torch.nn.Sigmoid()\n",
    "    probs = sigmoid(torch.Tensor(predictions))\n",
    "    # next, use threshold to turn them into integer predictions\n",
    "    y_pred = np.zeros(probs.shape)\n",
    "    y_pred[np.where(probs > threshold)] = 1\n",
    "    # finally, compute metrics\n",
    "    y_true = labels\n",
    "    \n",
    "    return {'f1': f1_score(labels.sum(axis=1)>0,\n",
    "                           y_pred.sum(axis=1)>0)}"
   ]
  },
  {
   "cell_type": "code",
   "execution_count": 32,
   "id": "fb325aae-ce13-4c53-af10-eaf19a0a5d8e",
   "metadata": {
    "tags": []
   },
   "outputs": [],
   "source": [
    "def compute_metrics(p):\n",
    "    preds = p.predictions[0] if isinstance(p.predictions,\n",
    "            tuple) else p.predictions\n",
    "    result = multi_label_metrics(\n",
    "        predictions=preds,\n",
    "        labels=p.label_ids)\n",
    "    return result"
   ]
  },
  {
   "cell_type": "code",
   "execution_count": 33,
   "id": "cc6ac1ba-c5e8-480d-a2a5-5597e94f4fc7",
   "metadata": {
    "tags": []
   },
   "outputs": [
    {
     "name": "stdout",
     "output_type": "stream",
     "text": [
      "huggingface/tokenizers: The current process just got forked, after parallelism has already been used. Disabling parallelism to avoid deadlocks...\n",
      "To disable this warning, you can either:\n",
      "\t- Avoid using `tokenizers` before the fork if possible\n",
      "\t- Explicitly set the environment variable TOKENIZERS_PARALLELISM=(true | false)\n",
      "huggingface/tokenizers: The current process just got forked, after parallelism has already been used. Disabling parallelism to avoid deadlocks...\n",
      "To disable this warning, you can either:\n",
      "\t- Avoid using `tokenizers` before the fork if possible\n",
      "\t- Explicitly set the environment variable TOKENIZERS_PARALLELISM=(true | false)\n"
     ]
    }
   ],
   "source": [
    "from transformers import TrainingArguments, Trainer\n",
    "batch_size = 32\n",
    "args = TrainingArguments(\n",
    "    f\"roberta-finetuned-pharma\",\n",
    "    evaluation_strategy = \"epoch\",\n",
    "    save_strategy = \"epoch\",\n",
    "    learning_rate=2e-5,\n",
    "    per_device_train_batch_size=batch_size,\n",
    "    per_device_eval_batch_size=batch_size,\n",
    "    num_train_epochs=10,\n",
    "    weight_decay=0.01,\n",
    "    load_best_model_at_end=True,\n",
    "    metric_for_best_model=\"f1\",\n",
    "    #push_to_hub=True,\n",
    ")"
   ]
  },
  {
   "cell_type": "code",
   "execution_count": 34,
   "id": "6916310a-41f7-4577-a9e9-c25cdb4b49de",
   "metadata": {
    "tags": []
   },
   "outputs": [
    {
     "name": "stdout",
     "output_type": "stream",
     "text": [
      "SequenceClassifierOutput(loss=tensor(0.6636, grad_fn=<BinaryCrossEntropyWithLogitsBackward0>), logits=tensor([[-0.2689, -0.3159,  0.5139,  0.3286,  0.3396, -0.3322, -0.5178,  0.1577,\n",
      "          0.1113, -0.4822, -0.4981, -0.4492, -0.2927,  0.4772, -0.1523,  0.3354,\n",
      "          0.1568, -0.4443, -0.1756,  0.1426, -0.7459,  0.0500]],\n",
      "       grad_fn=<AddmmBackward0>), hidden_states=None, attentions=None)\n"
     ]
    }
   ],
   "source": [
    "outputs = model(input_ids=train_ds['input_ids'][0].unsqueeze(0), labels=train_ds[0]['labels'].unsqueeze(0))\n",
    "print(outputs)"
   ]
  },
  {
   "cell_type": "code",
   "execution_count": 35,
   "id": "e6193502-ff9c-4279-abc2-1a091ce23080",
   "metadata": {
    "tags": []
   },
   "outputs": [],
   "source": [
    "trainer = Trainer(\n",
    "    model,\n",
    "    args,\n",
    "    train_dataset=train_ds,\n",
    "    eval_dataset=valid_ds,\n",
    "    tokenizer=tokenizer,\n",
    "    compute_metrics=compute_metrics\n",
    ")"
   ]
  },
  {
   "cell_type": "code",
   "execution_count": null,
   "id": "210abc11-0cab-46c1-9382-de24578da44e",
   "metadata": {
    "tags": []
   },
   "outputs": [
    {
     "name": "stderr",
     "output_type": "stream",
     "text": [
      "/home/ec2-user/anaconda3/envs/pytorch_p310/lib/python3.10/site-packages/transformers/optimization.py:391: FutureWarning: This implementation of AdamW is deprecated and will be removed in a future version. Use the PyTorch implementation torch.optim.AdamW instead, or set `no_deprecation_warning=True` to disable this warning\n",
      "  warnings.warn(\n",
      "You're using a XLMRobertaTokenizerFast tokenizer. Please note that with a fast tokenizer, using the `__call__` method is faster than using a method to encode the text followed by a call to the `pad` method to get a padded encoding.\n"
     ]
    },
    {
     "data": {
      "text/html": [
       "\n",
       "    <div>\n",
       "      \n",
       "      <progress value='8065' max='8960' style='width:300px; height:20px; vertical-align: middle;'></progress>\n",
       "      [8065/8960 1:43:54 < 11:32, 1.29 it/s, Epoch 9/10]\n",
       "    </div>\n",
       "    <table border=\"1\" class=\"dataframe\">\n",
       "  <thead>\n",
       " <tr style=\"text-align: left;\">\n",
       "      <th>Epoch</th>\n",
       "      <th>Training Loss</th>\n",
       "      <th>Validation Loss</th>\n",
       "      <th>F1</th>\n",
       "    </tr>\n",
       "  </thead>\n",
       "  <tbody>\n",
       "    <tr>\n",
       "      <td>1</td>\n",
       "      <td>0.093400</td>\n",
       "      <td>0.033384</td>\n",
       "      <td>0.790822</td>\n",
       "    </tr>\n",
       "    <tr>\n",
       "      <td>2</td>\n",
       "      <td>0.024500</td>\n",
       "      <td>0.026816</td>\n",
       "      <td>0.828194</td>\n",
       "    </tr>\n",
       "    <tr>\n",
       "      <td>3</td>\n",
       "      <td>0.014500</td>\n",
       "      <td>0.026200</td>\n",
       "      <td>0.839941</td>\n",
       "    </tr>\n",
       "    <tr>\n",
       "      <td>4</td>\n",
       "      <td>0.008700</td>\n",
       "      <td>0.030091</td>\n",
       "      <td>0.838991</td>\n",
       "    </tr>\n",
       "    <tr>\n",
       "      <td>5</td>\n",
       "      <td>0.005700</td>\n",
       "      <td>0.033331</td>\n",
       "      <td>0.841646</td>\n",
       "    </tr>\n",
       "    <tr>\n",
       "      <td>6</td>\n",
       "      <td>0.003800</td>\n",
       "      <td>0.034560</td>\n",
       "      <td>0.843098</td>\n",
       "    </tr>\n",
       "    <tr>\n",
       "      <td>7</td>\n",
       "      <td>0.002700</td>\n",
       "      <td>0.038096</td>\n",
       "      <td>0.834835</td>\n",
       "    </tr>\n",
       "    <tr>\n",
       "      <td>8</td>\n",
       "      <td>0.001700</td>\n",
       "      <td>0.037642</td>\n",
       "      <td>0.839980</td>\n",
       "    </tr>\n",
       "  </tbody>\n",
       "</table><p>\n",
       "    <div>\n",
       "      \n",
       "      <progress value='71' max='100' style='width:300px; height:20px; vertical-align: middle;'></progress>\n",
       "      [ 71/100 00:12 < 00:05, 5.58 it/s]\n",
       "    </div>\n",
       "    "
      ],
      "text/plain": [
       "<IPython.core.display.HTML object>"
      ]
     },
     "metadata": {},
     "output_type": "display_data"
    }
   ],
   "source": [
    "trainer.train()"
   ]
  },
  {
   "cell_type": "code",
   "execution_count": 37,
   "id": "9f8a6cfd-bf62-442c-9520-25e74667a602",
   "metadata": {
    "tags": []
   },
   "outputs": [],
   "source": [
    "trainer.save_model()"
   ]
  },
  {
   "cell_type": "code",
   "execution_count": 38,
   "id": "ffca4344-101a-4670-881a-8fa3035bdb6d",
   "metadata": {
    "tags": []
   },
   "outputs": [],
   "source": [
    "eval_loss = []\n",
    "eval_f1 = []\n",
    "for log_dict in trainer.state.log_history:\n",
    "    if 'eval_loss' in log_dict:\n",
    "        eval_loss.append(log_dict['eval_loss'])\n",
    "        eval_f1.append(log_dict['eval_f1'])"
   ]
  },
  {
   "cell_type": "code",
   "execution_count": 39,
   "id": "c0d726f9-a698-47de-9bd6-49c9e364f738",
   "metadata": {
    "tags": []
   },
   "outputs": [
    {
     "name": "stderr",
     "output_type": "stream",
     "text": [
      "/tmp/ipykernel_7973/2270467032.py:2: MatplotlibDeprecationWarning: The seaborn styles shipped by Matplotlib are deprecated since 3.6, as they no longer correspond to the styles shipped by seaborn. However, they will remain available as 'seaborn-v0_8-<style>'. Alternatively, directly use the seaborn API instead.\n",
      "  plt.style.use('seaborn-whitegrid')\n"
     ]
    },
    {
     "data": {
      "image/png": "[encoded data removed]",
      "text/plain": [
       "<Figure size 640x480 with 2 Axes>"
      ]
     },
     "metadata": {},
     "output_type": "display_data"
    }
   ],
   "source": [
    "import matplotlib.pyplot as plt\n",
    "plt.style.use('seaborn-whitegrid')\n",
    "import numpy as np\n",
    "%matplotlib inline\n",
    "x = np.linspace(1, 10, 10)\n",
    "fig, ax1 = plt.subplots()\n",
    "\n",
    "color = 'tab:red'\n",
    "ax1.set_xlabel('Epochs')\n",
    "ax1.set_ylabel('Eval Loss', color=color)\n",
    "ax1.plot(x, eval_loss, color=color)\n",
    "ax1.tick_params(axis='y', labelcolor=color)\n",
    "\n",
    "ax2 = ax1.twinx()  # instantiate a second axes that shares the same x-axis\n",
    "\n",
    "color = 'tab:blue'\n",
    "ax2.set_ylabel('Eval f1', color=color)  # we already handled the x-label with ax1\n",
    "ax2.plot(x, eval_f1, color=color)\n",
    "ax2.tick_params(axis='y', labelcolor=color)\n",
    "\n",
    "fig.tight_layout()  # otherwise the right y-label is slightly clipped\n",
    "fig.savefig('xlm-roberta-f2-loss.png')"
   ]
  },
  {
   "cell_type": "code",
   "execution_count": null,
   "id": "675e7497-52b8-4d00-9d90-78458ceb42d2",
   "metadata": {},
   "outputs": [],
   "source": []
  }
 ],
 "metadata": {
  "kernelspec": {
   "display_name": "conda_pytorch_p310",
   "language": "python",
   "name": "conda_pytorch_p310"
  },
  "language_info": {
   "codemirror_mode": {
    "name": "ipython",
    "version": 3
   },
   "file_extension": ".py",
   "mimetype": "text/x-python",
   "name": "python",
   "nbconvert_exporter": "python",
   "pygments_lexer": "ipython3",
   "version": "3.10.12"
  }
 },
 "nbformat": 4,
 "nbformat_minor": 5
}
