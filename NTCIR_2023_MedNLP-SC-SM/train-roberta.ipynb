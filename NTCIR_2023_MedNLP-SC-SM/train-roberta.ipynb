{
 "cells": [
  {
   "cell_type": "code",
   "execution_count": 1,
   "id": "82e30665-8c61-4902-890b-1f0ba67ae312",
   "metadata": {
    "tags": []
   },
   "outputs": [],
   "source": [
    "import pandas as pd"
   ]
  },
  {
   "cell_type": "code",
   "execution_count": 2,
   "id": "4e88a3d6-41e7-4a71-a0be-d3a06c663b4f",
   "metadata": {
    "tags": []
   },
   "outputs": [],
   "source": [
    "en_df = pd.read_csv(\"train/ntcir17_mednlp-sc_sm_en_train_26_06_23.csv\")\n",
    "fr_df = pd.read_csv(\"train/ntcir17_mednlp-sc_sm_fr_train_26_06_23.csv\")\n",
    "de_df = pd.read_csv(\"train/ntcir17_mednlp-sc_sm_de_train_26_06_23.csv\")\n",
    "ja_df = pd.read_csv(\"train/ntcir17_mednlp-sc_sm_ja_train_26_06_23.csv\")"
   ]
  },
  {
   "cell_type": "code",
   "execution_count": 3,
   "id": "0f6b0509-c49d-470c-825d-558608d40de3",
   "metadata": {
    "tags": []
   },
   "outputs": [],
   "source": [
    "remove_common_name = lambda x: x.split(\":\")[0]"
   ]
  },
  {
   "cell_type": "code",
   "execution_count": 4,
   "id": "107fff43-b290-4537-98ae-64a3c7948574",
   "metadata": {
    "tags": []
   },
   "outputs": [],
   "source": [
    "en_df = en_df.rename(remove_common_name, axis='columns')\n",
    "fr_df = fr_df.rename(remove_common_name, axis='columns')\n",
    "de_df = de_df.rename(remove_common_name, axis='columns')\n",
    "ja_df = ja_df.rename(remove_common_name, axis='columns')"
   ]
  },
  {
   "cell_type": "code",
   "execution_count": 5,
   "id": "44b57ef3-0556-49b3-9837-864e50431f4f",
   "metadata": {
    "tags": []
   },
   "outputs": [],
   "source": [
    "ade_columns = ['C0027497', 'C0011991', 'C0015672', 'C0042963', 'C0003123',\n",
    "               'C0018681', 'C0015967', 'C0206062', 'C0023895', 'C0012833',\n",
    "               'C0030193', 'C0002170', 'C0004096', 'C0022658', 'C0020517',\n",
    "               'C0917801', 'C0009806', 'C0005956', 'C0000737', 'C0010692',\n",
    "               'C0015230', 'C0149745']"
   ]
  },
  {
   "cell_type": "code",
   "execution_count": 6,
   "id": "9d1acd2d-c2f2-4b9c-9fcd-a760d1d6a838",
   "metadata": {
    "tags": []
   },
   "outputs": [],
   "source": [
    "comb_train = pd.concat([en_df, fr_df, de_df, ja_df])\n",
    "comb_train[ade_columns] = comb_train[ade_columns].astype(float)\n",
    "comb_train[\"labels\"] = comb_train[ade_columns].values.tolist()\n",
    "xtrain_ds = comb_train.drop(columns=ade_columns+[\"train_id\"])\n",
    "xtrain_ds = xtrain_ds.sample(frac=1).reset_index(drop=True)"
   ]
  },
  {
   "cell_type": "code",
   "execution_count": 7,
   "id": "9e462b44-13c7-4bef-9010-281ad97c4bb6",
   "metadata": {
    "tags": []
   },
   "outputs": [],
   "source": [
    "id2label = {idx:label for idx, label in enumerate(ade_columns)}\n",
    "label2id = {label:idx for idx, label in enumerate(ade_columns)}"
   ]
  },
  {
   "cell_type": "code",
   "execution_count": 8,
   "id": "33a18ef0-92bc-41bc-93e0-4d733f765051",
   "metadata": {
    "tags": []
   },
   "outputs": [],
   "source": [
    "from transformers import AutoTokenizer\n",
    "import numpy as np\n",
    "tokenizer = AutoTokenizer.from_pretrained(\"xlm-roberta-large\")"
   ]
  },
  {
   "cell_type": "code",
   "execution_count": 9,
   "id": "adbcf734-3847-4056-9f14-920fb75e0892",
   "metadata": {
    "tags": []
   },
   "outputs": [],
   "source": [
    "import datasets\n",
    "from datasets import Dataset"
   ]
  },
  {
   "cell_type": "code",
   "execution_count": 10,
   "id": "296b7eb6-7585-4b8a-bd9d-d7cbaa137e55",
   "metadata": {
    "tags": []
   },
   "outputs": [],
   "source": [
    "ds = Dataset.from_pandas(xtrain_ds, preserve_index=False)"
   ]
  },
  {
   "cell_type": "code",
   "execution_count": 11,
   "id": "def5f5e1-96fc-44e8-998f-f382a338ec0a",
   "metadata": {
    "tags": []
   },
   "outputs": [],
   "source": [
    "def preprocess_data(examples):\n",
    "    # take a batch of texts\n",
    "    # encode them\n",
    "    encoding = tokenizer(examples[\"text\"], padding=\"max_length\", truncation=True, max_length=128)\n",
    "    encoding[\"labels\"] = examples[\"labels\"]\n",
    "    return encoding"
   ]
  },
  {
   "cell_type": "code",
   "execution_count": 12,
   "id": "0926796c-69d7-4367-ba24-3d2117e92537",
   "metadata": {
    "tags": []
   },
   "outputs": [
    {
     "data": {
      "application/vnd.jupyter.widget-view+json": {
       "model_id": "",
       "version_major": 2,
       "version_minor": 0
      },
      "text/plain": [
       "Map:   0%|          | 0/31856 [00:00<?, ? examples/s]"
      ]
     },
     "metadata": {},
     "output_type": "display_data"
    }
   ],
   "source": [
    "encoded_dataset = ds.map(preprocess_data, batched=True, remove_columns=ds.column_names)"
   ]
  },
  {
   "cell_type": "code",
   "execution_count": 13,
   "id": "f95d93d6-67a5-4a31-9b3d-4e5e241bff41",
   "metadata": {
    "tags": []
   },
   "outputs": [],
   "source": [
    "encoded_dataset.set_format(\"torch\")"
   ]
  },
  {
   "cell_type": "code",
   "execution_count": 14,
   "id": "2614d122-5593-45c6-8f7a-1354f2bd4cd1",
   "metadata": {
    "tags": []
   },
   "outputs": [
    {
     "name": "stderr",
     "output_type": "stream",
     "text": [
      "Some weights of the model checkpoint at xlm-roberta-large were not used when initializing XLMRobertaForSequenceClassification: ['lm_head.bias', 'lm_head.dense.weight', 'lm_head.layer_norm.weight', 'roberta.pooler.dense.weight', 'lm_head.layer_norm.bias', 'lm_head.decoder.weight', 'lm_head.dense.bias', 'roberta.pooler.dense.bias']\n",
      "- This IS expected if you are initializing XLMRobertaForSequenceClassification from the checkpoint of a model trained on another task or with another architecture (e.g. initializing a BertForSequenceClassification model from a BertForPreTraining model).\n",
      "- This IS NOT expected if you are initializing XLMRobertaForSequenceClassification from the checkpoint of a model that you expect to be exactly identical (initializing a BertForSequenceClassification model from a BertForSequenceClassification model).\n",
      "Some weights of XLMRobertaForSequenceClassification were not initialized from the model checkpoint at xlm-roberta-large and are newly initialized: ['classifier.dense.bias', 'classifier.dense.weight', 'classifier.out_proj.bias', 'classifier.out_proj.weight']\n",
      "You should probably TRAIN this model on a down-stream task to be able to use it for predictions and inference.\n"
     ]
    }
   ],
   "source": [
    "from transformers import AutoModelForSequenceClassification\n",
    "model = AutoModelForSequenceClassification.from_pretrained(\"xlm-roberta-large\",\n",
    "                                                           problem_type=\"multi_label_classification\",\n",
    "                                                           num_labels=len(ade_columns),\n",
    "                                                           id2label=id2label,\n",
    "                                                           label2id=label2id)"
   ]
  },
  {
   "cell_type": "code",
   "execution_count": 15,
   "id": "cc6ac1ba-c5e8-480d-a2a5-5597e94f4fc7",
   "metadata": {
    "tags": []
   },
   "outputs": [],
   "source": [
    "from transformers import TrainingArguments, Trainer\n",
    "batch_size = 32\n",
    "args = TrainingArguments(\n",
    "    f\"robert-finetuned-pharma\",\n",
    "    save_strategy = \"epoch\",\n",
    "    learning_rate=2e-5,\n",
    "    per_device_train_batch_size=batch_size,\n",
    "    per_device_eval_batch_size=batch_size,\n",
    "    num_train_epochs=6,\n",
    "    weight_decay=0.01,\n",
    " #   load_best_model_at_end=True,\n",
    "    metric_for_best_model=\"f1\",\n",
    "    #push_to_hub=True,\n",
    ")"
   ]
  },
  {
   "cell_type": "code",
   "execution_count": 16,
   "id": "6916310a-41f7-4577-a9e9-c25cdb4b49de",
   "metadata": {
    "tags": []
   },
   "outputs": [
    {
     "name": "stdout",
     "output_type": "stream",
     "text": [
      "SequenceClassifierOutput(loss=tensor(0.7224, grad_fn=<BinaryCrossEntropyWithLogitsBackward0>), logits=tensor([[ 0.6097,  0.2221,  0.6396, -0.0841, -0.2875,  0.0645, -0.1703, -0.1534,\n",
      "         -0.1157, -0.0084,  0.0229,  0.1980, -0.4429,  0.4388,  0.5379, -0.3154,\n",
      "          0.3499,  0.3215, -0.2606,  0.1387,  0.0212,  0.1068]],\n",
      "       grad_fn=<AddmmBackward0>), hidden_states=None, attentions=None)\n"
     ]
    }
   ],
   "source": [
    "outputs = model(input_ids=encoded_dataset['input_ids'][0].unsqueeze(0), labels=encoded_dataset[0]['labels'].unsqueeze(0))\n",
    "print(outputs)"
   ]
  },
  {
   "cell_type": "code",
   "execution_count": 17,
   "id": "e6193502-ff9c-4279-abc2-1a091ce23080",
   "metadata": {
    "tags": []
   },
   "outputs": [],
   "source": [
    "trainer = Trainer(\n",
    "    model,\n",
    "    args,\n",
    "    train_dataset=encoded_dataset,\n",
    "    tokenizer=tokenizer\n",
    ")"
   ]
  },
  {
   "cell_type": "code",
   "execution_count": null,
   "id": "210abc11-0cab-46c1-9382-de24578da44e",
   "metadata": {
    "tags": []
   },
   "outputs": [
    {
     "name": "stderr",
     "output_type": "stream",
     "text": [
      "/home/ec2-user/anaconda3/envs/pytorch_p310/lib/python3.10/site-packages/transformers/optimization.py:391: FutureWarning: This implementation of AdamW is deprecated and will be removed in a future version. Use the PyTorch implementation torch.optim.AdamW instead, or set `no_deprecation_warning=True` to disable this warning\n",
      "  warnings.warn(\n",
      "You're using a XLMRobertaTokenizerFast tokenizer. Please note that with a fast tokenizer, using the `__call__` method is faster than using a method to encode the text followed by a call to the `pad` method to get a padded encoding.\n"
     ]
    },
    {
     "data": {
      "text/html": [
       "\n",
       "    <div>\n",
       "      \n",
       "      <progress value='2038' max='5976' style='width:300px; height:20px; vertical-align: middle;'></progress>\n",
       "      [2038/5976 22:28 < 43:28, 1.51 it/s, Epoch 2.05/6]\n",
       "    </div>\n",
       "    <table border=\"1\" class=\"dataframe\">\n",
       "  <thead>\n",
       " <tr style=\"text-align: left;\">\n",
       "      <th>Step</th>\n",
       "      <th>Training Loss</th>\n",
       "    </tr>\n",
       "  </thead>\n",
       "  <tbody>\n",
       "    <tr>\n",
       "      <td>500</td>\n",
       "      <td>0.087000</td>\n",
       "    </tr>\n",
       "    <tr>\n",
       "      <td>1000</td>\n",
       "      <td>0.035200</td>\n",
       "    </tr>\n",
       "    <tr>\n",
       "      <td>1500</td>\n",
       "      <td>0.023500</td>\n",
       "    </tr>\n",
       "    <tr>\n",
       "      <td>2000</td>\n",
       "      <td>0.019500</td>\n",
       "    </tr>\n",
       "  </tbody>\n",
       "</table><p>"
      ],
      "text/plain": [
       "<IPython.core.display.HTML object>"
      ]
     },
     "metadata": {},
     "output_type": "display_data"
    }
   ],
   "source": [
    "trainer.train()"
   ]
  },
  {
   "cell_type": "code",
   "execution_count": 19,
   "id": "9f8a6cfd-bf62-442c-9520-25e74667a602",
   "metadata": {},
   "outputs": [],
   "source": [
    "trainer.save_model()"
   ]
  },
  {
   "cell_type": "code",
   "execution_count": null,
   "id": "3b65a3a1-56ea-465a-8e3f-b3ed9ea86f7b",
   "metadata": {},
   "outputs": [],
   "source": []
  }
 ],
 "metadata": {
  "kernelspec": {
   "display_name": "conda_pytorch_p310",
   "language": "python",
   "name": "conda_pytorch_p310"
  },
  "language_info": {
   "codemirror_mode": {
    "name": "ipython",
    "version": 3
   },
   "file_extension": ".py",
   "mimetype": "text/x-python",
   "name": "python",
   "nbconvert_exporter": "python",
   "pygments_lexer": "ipython3",
   "version": "3.10.12"
  }
 },
 "nbformat": 4,
 "nbformat_minor": 5
}
